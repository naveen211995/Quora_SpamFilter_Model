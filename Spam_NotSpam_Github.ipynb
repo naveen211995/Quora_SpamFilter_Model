{
  "nbformat": 4,
  "nbformat_minor": 0,
  "metadata": {
    "colab": {
      "name": "Spam_NotSpam_Github2.ipynb",
      "provenance": [],
      "collapsed_sections": []
    },
    "kernelspec": {
      "name": "python3",
      "display_name": "Python 3"
    },
    "accelerator": "GPU"
  },
  "cells": [
    {
      "cell_type": "markdown",
      "metadata": {
        "id": "Bqs3hgaPjZ04",
        "colab_type": "text"
      },
      "source": [
        "# ***Spam Filtering for Quora questions...***"
      ]
    },
    {
      "cell_type": "markdown",
      "metadata": {
        "id": "6ObieDw2kYST",
        "colab_type": "text"
      },
      "source": [
        "Here we are trying to buid a simple Spam filtering Deep Learning model using Word Embeddings."
      ]
    },
    {
      "cell_type": "code",
      "metadata": {
        "id": "tSZ5Ay0sE8_j",
        "colab_type": "code",
        "colab": {
          "base_uri": "https://localhost:8080/",
          "height": 35
        },
        "outputId": "e0e2b139-6a56-4a2f-d120-a73b837779b4"
      },
      "source": [
        "%tensorflow_version 2.x"
      ],
      "execution_count": 1,
      "outputs": [
        {
          "output_type": "stream",
          "text": [
            "TensorFlow 2.x selected.\n"
          ],
          "name": "stdout"
        }
      ]
    },
    {
      "cell_type": "code",
      "metadata": {
        "id": "I7VyDTdQMggr",
        "colab_type": "code",
        "colab": {}
      },
      "source": [
        "!pip install -U -q PyDrive"
      ],
      "execution_count": 0,
      "outputs": []
    },
    {
      "cell_type": "code",
      "metadata": {
        "id": "ld8rX8DSj6av",
        "colab_type": "code",
        "outputId": "fcc62ae5-b875-4292-bcb8-d1a0c8c14b13",
        "colab": {
          "base_uri": "https://localhost:8080/",
          "height": 128
        }
      },
      "source": [
        "#Intially we will import the dataset into the Notebook..\n",
        "from google.colab import drive\n",
        "drive.mount('/content/drive')"
      ],
      "execution_count": 4,
      "outputs": [
        {
          "output_type": "stream",
          "text": [
            "Go to this URL in a browser: https://accounts.google.com/o/oauth2/auth?client_id=947318989803-6bn6qk8qdgf4n4g3pfee6491hc0brc4i.apps.googleusercontent.com&redirect_uri=urn%3aietf%3awg%3aoauth%3a2.0%3aoob&response_type=code&scope=email%20https%3a%2f%2fwww.googleapis.com%2fauth%2fdocs.test%20https%3a%2f%2fwww.googleapis.com%2fauth%2fdrive%20https%3a%2f%2fwww.googleapis.com%2fauth%2fdrive.photos.readonly%20https%3a%2f%2fwww.googleapis.com%2fauth%2fpeopleapi.readonly\n",
            "\n",
            "Enter your authorization code:\n",
            "··········\n",
            "Mounted at /content/drive\n"
          ],
          "name": "stdout"
        }
      ]
    },
    {
      "cell_type": "code",
      "metadata": {
        "id": "9nBIFelDQ-h_",
        "colab_type": "code",
        "colab": {}
      },
      "source": [
        "from pydrive.auth import GoogleAuth\n",
        "from pydrive.drive import GoogleDrive\n",
        "from google.colab import auth\n",
        "from oauth2client.client import GoogleCredentials"
      ],
      "execution_count": 0,
      "outputs": []
    },
    {
      "cell_type": "code",
      "metadata": {
        "id": "n-kc0mEhQ-ft",
        "colab_type": "code",
        "colab": {}
      },
      "source": [
        "auth.authenticate_user()\n",
        "gauth = GoogleAuth()\n",
        "gauth.credentials = GoogleCredentials.get_application_default()\n",
        "drive = GoogleDrive(gauth)"
      ],
      "execution_count": 0,
      "outputs": []
    },
    {
      "cell_type": "code",
      "metadata": {
        "id": "acdNhiQSR00X",
        "colab_type": "code",
        "colab": {}
      },
      "source": [
        "downloaded= drive.CreateFile({'id': '1feloWBYp56AeekpRgWzSsui3AoRPdQo5'})\n",
        "downloaded.GetContentFile('train.csv')"
      ],
      "execution_count": 0,
      "outputs": []
    },
    {
      "cell_type": "code",
      "metadata": {
        "id": "-cy5XNHslbhO",
        "colab_type": "code",
        "colab": {}
      },
      "source": [
        "#Importing required packages...\n",
        "import numpy as np\n",
        "import pandas as pd\n",
        "from sklearn.model_selection import train_test_split"
      ],
      "execution_count": 0,
      "outputs": []
    },
    {
      "cell_type": "code",
      "metadata": {
        "id": "S933qdOXmdOg",
        "colab_type": "code",
        "colab": {}
      },
      "source": [
        "spam_data= pd.read_csv('/content/train.csv')"
      ],
      "execution_count": 0,
      "outputs": []
    },
    {
      "cell_type": "code",
      "metadata": {
        "id": "GsVMt192mdQf",
        "colab_type": "code",
        "outputId": "9372779b-4047-4495-de5d-a39174faf5f4",
        "colab": {
          "base_uri": "https://localhost:8080/",
          "height": 206
        }
      },
      "source": [
        "spam_data.head()"
      ],
      "execution_count": 4,
      "outputs": [
        {
          "output_type": "execute_result",
          "data": {
            "text/html": [
              "<div>\n",
              "<style scoped>\n",
              "    .dataframe tbody tr th:only-of-type {\n",
              "        vertical-align: middle;\n",
              "    }\n",
              "\n",
              "    .dataframe tbody tr th {\n",
              "        vertical-align: top;\n",
              "    }\n",
              "\n",
              "    .dataframe thead th {\n",
              "        text-align: right;\n",
              "    }\n",
              "</style>\n",
              "<table border=\"1\" class=\"dataframe\">\n",
              "  <thead>\n",
              "    <tr style=\"text-align: right;\">\n",
              "      <th></th>\n",
              "      <th>qid</th>\n",
              "      <th>question_text</th>\n",
              "      <th>target</th>\n",
              "    </tr>\n",
              "  </thead>\n",
              "  <tbody>\n",
              "    <tr>\n",
              "      <th>0</th>\n",
              "      <td>00002165364db923c7e6</td>\n",
              "      <td>How did Quebec nationalists see their province...</td>\n",
              "      <td>0</td>\n",
              "    </tr>\n",
              "    <tr>\n",
              "      <th>1</th>\n",
              "      <td>000032939017120e6e44</td>\n",
              "      <td>Do you have an adopted dog, how would you enco...</td>\n",
              "      <td>0</td>\n",
              "    </tr>\n",
              "    <tr>\n",
              "      <th>2</th>\n",
              "      <td>0000412ca6e4628ce2cf</td>\n",
              "      <td>Why does velocity affect time? Does velocity a...</td>\n",
              "      <td>0</td>\n",
              "    </tr>\n",
              "    <tr>\n",
              "      <th>3</th>\n",
              "      <td>000042bf85aa498cd78e</td>\n",
              "      <td>How did Otto von Guericke used the Magdeburg h...</td>\n",
              "      <td>0</td>\n",
              "    </tr>\n",
              "    <tr>\n",
              "      <th>4</th>\n",
              "      <td>0000455dfa3e01eae3af</td>\n",
              "      <td>Can I convert montra helicon D to a mountain b...</td>\n",
              "      <td>0</td>\n",
              "    </tr>\n",
              "  </tbody>\n",
              "</table>\n",
              "</div>"
            ],
            "text/plain": [
              "                    qid  ... target\n",
              "0  00002165364db923c7e6  ...      0\n",
              "1  000032939017120e6e44  ...      0\n",
              "2  0000412ca6e4628ce2cf  ...      0\n",
              "3  000042bf85aa498cd78e  ...      0\n",
              "4  0000455dfa3e01eae3af  ...      0\n",
              "\n",
              "[5 rows x 3 columns]"
            ]
          },
          "metadata": {
            "tags": []
          },
          "execution_count": 4
        }
      ]
    },
    {
      "cell_type": "markdown",
      "metadata": {
        "id": "SyXdgTeD08kd",
        "colab_type": "text"
      },
      "source": [
        "# **Data Preprocessing**"
      ]
    },
    {
      "cell_type": "markdown",
      "metadata": {
        "id": "CjyOtuIMWWxX",
        "colab_type": "text"
      },
      "source": [
        "Process sentence..."
      ]
    },
    {
      "cell_type": "code",
      "metadata": {
        "id": "9wv2l1jiWUlj",
        "colab_type": "code",
        "colab": {}
      },
      "source": [
        "#Importing required packages...\n",
        "import re\n",
        "import string\n",
        "from nltk.tokenize import word_tokenize"
      ],
      "execution_count": 0,
      "outputs": []
    },
    {
      "cell_type": "code",
      "metadata": {
        "id": "LQD8VSo9WlHb",
        "colab_type": "code",
        "colab": {}
      },
      "source": [
        "def remove_hyperlink(word):\n",
        "  return re.sub(r'http\\S', '', word)"
      ],
      "execution_count": 0,
      "outputs": []
    },
    {
      "cell_type": "code",
      "metadata": {
        "id": "dNXhPrvbWlNv",
        "colab_type": "code",
        "colab": {}
      },
      "source": [
        "def to_lower(word):\n",
        "  result= word.lower()\n",
        "  return result"
      ],
      "execution_count": 0,
      "outputs": []
    },
    {
      "cell_type": "code",
      "metadata": {
        "id": "NLCuojnXWlTw",
        "colab_type": "code",
        "colab": {}
      },
      "source": [
        "def remove_punctuation(word):\n",
        "  result= word.translate(str.maketrans(dict.fromkeys(string.punctuation)))\n",
        "  return result"
      ],
      "execution_count": 0,
      "outputs": []
    },
    {
      "cell_type": "code",
      "metadata": {
        "id": "df6SJ7xSWlVh",
        "colab_type": "code",
        "colab": {}
      },
      "source": [
        "def remove_number(word):\n",
        "  result= re.sub(r'\\d+', '', word)\n",
        "  return result"
      ],
      "execution_count": 0,
      "outputs": []
    },
    {
      "cell_type": "code",
      "metadata": {
        "id": "JdusmVllWlMb",
        "colab_type": "code",
        "colab": {}
      },
      "source": [
        "def remove_whitespace(word):\n",
        "  result= word.strip()\n",
        "  return result"
      ],
      "execution_count": 0,
      "outputs": []
    },
    {
      "cell_type": "code",
      "metadata": {
        "id": "J6DSdp08XdOC",
        "colab_type": "code",
        "colab": {}
      },
      "source": [
        "def replace_newline(word):\n",
        "  return word.replace('\\n','')"
      ],
      "execution_count": 0,
      "outputs": []
    },
    {
      "cell_type": "code",
      "metadata": {
        "id": "xNHGeSwLXdUF",
        "colab_type": "code",
        "colab": {}
      },
      "source": [
        "def clean_up_pipeline(sentence):\n",
        "  cleaning_utils= [remove_hyperlink, replace_newline, to_lower, remove_number, remove_punctuation, remove_whitespace]\n",
        "  for o in cleaning_utils:\n",
        "    sentence= o(sentence)\n",
        "  return sentence"
      ],
      "execution_count": 0,
      "outputs": []
    },
    {
      "cell_type": "code",
      "metadata": {
        "id": "28ggC25oZdpX",
        "colab_type": "code",
        "colab": {}
      },
      "source": [
        "spam_data['question_text']= spam_data['question_text'].apply(lambda x: clean_up_pipeline(x)) "
      ],
      "execution_count": 0,
      "outputs": []
    },
    {
      "cell_type": "code",
      "metadata": {
        "id": "6eptctrUVT4S",
        "colab_type": "code",
        "outputId": "17012701-5704-4c73-f72f-30e8cb3f8ea2",
        "colab": {
          "base_uri": "https://localhost:8080/",
          "height": 126
        }
      },
      "source": [
        "spam_data['question_text'].head(5)"
      ],
      "execution_count": 14,
      "outputs": [
        {
          "output_type": "execute_result",
          "data": {
            "text/plain": [
              "0    how did quebec nationalists see their province...\n",
              "1    do you have an adopted dog how would you encou...\n",
              "2    why does velocity affect time does velocity af...\n",
              "3    how did otto von guericke used the magdeburg h...\n",
              "4    can i convert montra helicon d to a mountain b...\n",
              "Name: question_text, dtype: object"
            ]
          },
          "metadata": {
            "tags": []
          },
          "execution_count": 14
        }
      ]
    },
    {
      "cell_type": "markdown",
      "metadata": {
        "id": "R9vVvc12T_xy",
        "colab_type": "text"
      },
      "source": [
        "# **Model Building**"
      ]
    },
    {
      "cell_type": "markdown",
      "metadata": {
        "id": "1lkyGM-onLTj",
        "colab_type": "text"
      },
      "source": [
        "As we see that we have don't have a seperate Test data to validate, hence we will split the given data into **Train** and **Test** so that we can train our Model upon **Train data** and test the results upon **Test data** as below:"
      ]
    },
    {
      "cell_type": "code",
      "metadata": {
        "id": "eISw3Fa1mwbk",
        "colab_type": "code",
        "colab": {}
      },
      "source": [
        "spam_train, spam_test= train_test_split(spam_data, test_size=0.3, random_state=22)"
      ],
      "execution_count": 0,
      "outputs": []
    },
    {
      "cell_type": "code",
      "metadata": {
        "id": "rfYS-Sy7mwdo",
        "colab_type": "code",
        "colab": {}
      },
      "source": [
        "x_train= spam_train['question_text']\n",
        "y_train= spam_train['target']\n",
        "\n",
        "x_test= spam_test['question_text']\n",
        "y_test= spam_test['target']"
      ],
      "execution_count": 0,
      "outputs": []
    },
    {
      "cell_type": "code",
      "metadata": {
        "id": "ubcUfFLMmwiO",
        "colab_type": "code",
        "outputId": "365b7323-91ae-420f-f9ef-9df2c34ed047",
        "colab": {
          "base_uri": "https://localhost:8080/",
          "height": 35
        }
      },
      "source": [
        "#Validating the splitted data shapes..\n",
        "x_train.shape, y_train.shape, x_test.shape, y_test.shape"
      ],
      "execution_count": 17,
      "outputs": [
        {
          "output_type": "execute_result",
          "data": {
            "text/plain": [
              "((914285,), (914285,), (391837,), (391837,))"
            ]
          },
          "metadata": {
            "tags": []
          },
          "execution_count": 17
        }
      ]
    },
    {
      "cell_type": "code",
      "metadata": {
        "id": "950cv0b50N-3",
        "colab_type": "code",
        "colab": {
          "base_uri": "https://localhost:8080/",
          "height": 53
        },
        "outputId": "ec8ea1ac-88e2-434b-8356-c00cb0ba3c35"
      },
      "source": [
        "#Downloading the required packages...\n",
        "import nltk\n",
        "nltk.download('punkt')\n",
        "from nltk import word_tokenize\n",
        "from tensorflow.keras.preprocessing.text import Tokenizer"
      ],
      "execution_count": 18,
      "outputs": [
        {
          "output_type": "stream",
          "text": [
            "[nltk_data] Downloading package punkt to /root/nltk_data...\n",
            "[nltk_data]   Package punkt is already up-to-date!\n"
          ],
          "name": "stdout"
        }
      ]
    },
    {
      "cell_type": "markdown",
      "metadata": {
        "id": "PMqLe9cc2jIj",
        "colab_type": "text"
      },
      "source": [
        "Now, we will tokenize the texts and then convert these tokens to indexed integers."
      ]
    },
    {
      "cell_type": "code",
      "metadata": {
        "id": "jGk_4p120OAh",
        "colab_type": "code",
        "colab": {}
      },
      "source": [
        "sent_lens=[]\n",
        "for sent in x_train:\n",
        "  sent_lens.append(len(word_tokenize(sent)))"
      ],
      "execution_count": 0,
      "outputs": []
    },
    {
      "cell_type": "code",
      "metadata": {
        "id": "Nxf2fRfF0OE3",
        "colab_type": "code",
        "outputId": "c4c4fb6d-e0cd-41fc-8ff6-be46f61c0450",
        "colab": {
          "base_uri": "https://localhost:8080/",
          "height": 35
        }
      },
      "source": [
        "max(sent_lens)"
      ],
      "execution_count": 20,
      "outputs": [
        {
          "output_type": "execute_result",
          "data": {
            "text/plain": [
              "64"
            ]
          },
          "metadata": {
            "tags": []
          },
          "execution_count": 20
        }
      ]
    },
    {
      "cell_type": "code",
      "metadata": {
        "id": "ho3QN1S733DQ",
        "colab_type": "code",
        "outputId": "9d97dd26-9e07-4381-cf3c-802092a87539",
        "colab": {
          "base_uri": "https://localhost:8080/",
          "height": 35
        }
      },
      "source": [
        "np.quantile(sent_lens,0.95)"
      ],
      "execution_count": 21,
      "outputs": [
        {
          "output_type": "execute_result",
          "data": {
            "text/plain": [
              "27.0"
            ]
          },
          "metadata": {
            "tags": []
          },
          "execution_count": 21
        }
      ]
    },
    {
      "cell_type": "code",
      "metadata": {
        "id": "sRSPhu_B33Hv",
        "colab_type": "code",
        "colab": {}
      },
      "source": [
        "#As we see that 95% of the sentence length stands to be as 28, hence we choose the max_len as 28  \n",
        "max_len=27\n",
        "tok= Tokenizer(char_level=False, split=' ')  #Tokenizing the sentences\n",
        "tok.fit_on_texts(x_train)\n",
        "sequences_train= tok.texts_to_sequences(x_train) #Create tokens on train\n",
        "sequences_test= tok.texts_to_sequences(x_test)   #Create tokens on texts"
      ],
      "execution_count": 0,
      "outputs": []
    },
    {
      "cell_type": "code",
      "metadata": {
        "id": "YpVicLLQ33Jo",
        "colab_type": "code",
        "outputId": "7e6807f6-d239-46b5-e236-6836d3c989bb",
        "colab": {
          "base_uri": "https://localhost:8080/",
          "height": 35
        }
      },
      "source": [
        "vocab_len= len(tok.index_word.keys())\n",
        "vocab_len"
      ],
      "execution_count": 20,
      "outputs": [
        {
          "output_type": "execute_result",
          "data": {
            "text/plain": [
              "191780"
            ]
          },
          "metadata": {
            "tags": []
          },
          "execution_count": 20
        }
      ]
    },
    {
      "cell_type": "code",
      "metadata": {
        "id": "0ZTwBmD5GK6i",
        "colab_type": "code",
        "colab": {}
      },
      "source": [
        "##Importing the required packages...\n",
        "from tensorflow.keras.preprocessing import sequence"
      ],
      "execution_count": 0,
      "outputs": []
    },
    {
      "cell_type": "code",
      "metadata": {
        "id": "xK7c1O5e33Nz",
        "colab_type": "code",
        "colab": {}
      },
      "source": [
        "#Now we will pad the sequences with 0 if shorter than the max_len(28)\n",
        "sequence_matrix_train= sequence.pad_sequences(sequences_train, maxlen= max_len)\n",
        "sequence_matrix_test= sequence.pad_sequences(sequences_test, maxlen= max_len)"
      ],
      "execution_count": 0,
      "outputs": []
    },
    {
      "cell_type": "code",
      "metadata": {
        "id": "St5dP99C33Ph",
        "colab_type": "code",
        "outputId": "e04e18f8-f0df-44af-e688-ad59c643f3a7",
        "colab": {
          "base_uri": "https://localhost:8080/",
          "height": 144
        }
      },
      "source": [
        "sequence_matrix_train"
      ],
      "execution_count": 23,
      "outputs": [
        {
          "output_type": "execute_result",
          "data": {
            "text/plain": [
              "array([[    0,     0,     0, ...,     6,   151,  2589],\n",
              "       [    0,     0,     0, ...,  4885,    21,  1279],\n",
              "       [    0,     0,     0, ...,  8266, 15892, 12327],\n",
              "       ...,\n",
              "       [    0,     0,     0, ...,  2081,  5887,  5057],\n",
              "       [    0,     0,     0, ...,   223,    17,    22],\n",
              "       [    0,     0,     0, ...,   204, 11091,    37]], dtype=int32)"
            ]
          },
          "metadata": {
            "tags": []
          },
          "execution_count": 23
        }
      ]
    },
    {
      "cell_type": "code",
      "metadata": {
        "id": "IZBQWERx33VN",
        "colab_type": "code",
        "outputId": "9d726d47-2c96-4a5e-ed39-6a546d4c324b",
        "colab": {
          "base_uri": "https://localhost:8080/",
          "height": 144
        }
      },
      "source": [
        "sequence_matrix_test"
      ],
      "execution_count": 24,
      "outputs": [
        {
          "output_type": "execute_result",
          "data": {
            "text/plain": [
              "array([[    0,     0,     0, ...,  1221,     6,   867],\n",
              "       [    0,     0,     0, ...,     4,   144,  1193],\n",
              "       [    0,     0,     0, ...,     6,  5287,   144],\n",
              "       ...,\n",
              "       [    0,     0,     0, ...,   136,   932,  9413],\n",
              "       [    0,     0,     0, ...,   197,    21,    89],\n",
              "       [    0,     0,     0, ..., 27036,   147,   269]], dtype=int32)"
            ]
          },
          "metadata": {
            "tags": []
          },
          "execution_count": 24
        }
      ]
    },
    {
      "cell_type": "code",
      "metadata": {
        "id": "i_gzGMV433av",
        "colab_type": "code",
        "outputId": "83af37d1-89f2-4212-9e97-9e799b8f8d00",
        "colab": {
          "base_uri": "https://localhost:8080/",
          "height": 35
        }
      },
      "source": [
        "#Validating the shape of the matrices..\n",
        "sequence_matrix_train.shape, sequence_matrix_test.shape"
      ],
      "execution_count": 25,
      "outputs": [
        {
          "output_type": "execute_result",
          "data": {
            "text/plain": [
              "((914285, 27), (391837, 27))"
            ]
          },
          "metadata": {
            "tags": []
          },
          "execution_count": 25
        }
      ]
    },
    {
      "cell_type": "code",
      "metadata": {
        "id": "R6Yo9X8i33UR",
        "colab_type": "code",
        "outputId": "c277bad9-ad28-44aa-c78c-efb5cc6a54ac",
        "colab": {
          "base_uri": "https://localhost:8080/",
          "height": 380
        }
      },
      "source": [
        "#Downloading the Embedding to use the pre-trained weights.. \n",
        "!wget http://nlp.stanford.edu/data/glove.twitter.27B.zip"
      ],
      "execution_count": 81,
      "outputs": [
        {
          "output_type": "stream",
          "text": [
            "--2020-02-19 07:43:11--  http://nlp.stanford.edu/data/glove.twitter.27B.zip\n",
            "Resolving nlp.stanford.edu (nlp.stanford.edu)... 171.64.67.140\n",
            "Connecting to nlp.stanford.edu (nlp.stanford.edu)|171.64.67.140|:80... connected.\n",
            "HTTP request sent, awaiting response... 302 Found\n",
            "Location: https://nlp.stanford.edu/data/glove.twitter.27B.zip [following]\n",
            "--2020-02-19 07:43:11--  https://nlp.stanford.edu/data/glove.twitter.27B.zip\n",
            "Connecting to nlp.stanford.edu (nlp.stanford.edu)|171.64.67.140|:443... connected.\n",
            "HTTP request sent, awaiting response... 301 Moved Permanently\n",
            "Location: http://downloads.cs.stanford.edu/nlp/data/glove.twitter.27B.zip [following]\n",
            "--2020-02-19 07:43:12--  http://downloads.cs.stanford.edu/nlp/data/glove.twitter.27B.zip\n",
            "Resolving downloads.cs.stanford.edu (downloads.cs.stanford.edu)... 171.64.64.22\n",
            "Connecting to downloads.cs.stanford.edu (downloads.cs.stanford.edu)|171.64.64.22|:80... connected.\n",
            "HTTP request sent, awaiting response... 200 OK\n",
            "Length: 1520408563 (1.4G) [application/zip]\n",
            "Saving to: ‘glove.twitter.27B.zip’\n",
            "\n",
            "glove.twitter.27B.z 100%[===================>]   1.42G  2.00MB/s    in 11m 42s \n",
            "\n",
            "2020-02-19 07:54:54 (2.06 MB/s) - ‘glove.twitter.27B.zip’ saved [1520408563/1520408563]\n",
            "\n"
          ],
          "name": "stdout"
        }
      ]
    },
    {
      "cell_type": "code",
      "metadata": {
        "id": "iJMc21oJ33Bc",
        "colab_type": "code",
        "outputId": "bcaccbf8-3061-4287-cfd8-aed0db08b22c",
        "colab": {
          "base_uri": "https://localhost:8080/",
          "height": 108
        }
      },
      "source": [
        "#unzipping it..\n",
        "!unzip glove.twitter.27B.zip"
      ],
      "execution_count": 85,
      "outputs": [
        {
          "output_type": "stream",
          "text": [
            "Archive:  glove.twitter.27B.zip\n",
            "  inflating: glove.twitter.27B.25d.txt  \n",
            "  inflating: glove.twitter.27B.50d.txt  \n",
            "  inflating: glove.twitter.27B.100d.txt  \n",
            "  inflating: glove.twitter.27B.200d.txt  \n"
          ],
          "name": "stdout"
        }
      ]
    },
    {
      "cell_type": "code",
      "metadata": {
        "id": "OEXbm61j6NVw",
        "colab_type": "code",
        "colab": {}
      },
      "source": [
        "embedding_index={}\n",
        "\n",
        "f=open('glove.twitter.27B.200d.txt', encoding='utf-8')\n",
        "for line in f:\n",
        "  values= line.split()\n",
        "  word= values[0]\n",
        "  coefs= np.asarray(values[1:], dtype='float32')\n",
        "  embedding_index[word]= coefs\n",
        "f.close()"
      ],
      "execution_count": 0,
      "outputs": []
    },
    {
      "cell_type": "markdown",
      "metadata": {
        "id": "Fe6nCJa4_y-N",
        "colab_type": "text"
      },
      "source": [
        "Creating our Embedding matrix to bring the size to 300.\n",
        "We will use 300D vector representation of the words from pre-trained Embedding vector that we downloaded..."
      ]
    },
    {
      "cell_type": "code",
      "metadata": {
        "id": "B0lAbRg46Ndt",
        "colab_type": "code",
        "colab": {}
      },
      "source": [
        "embedding_matrix= np.zeros((vocab_len+1, 200))\n",
        "\n",
        "for word, i in tok.word_index.items():\n",
        "  embed_vector= embedding_index.get(word)\n",
        "  if embed_vector is not None:\n",
        "    embedding_matrix[i]== embed_vector"
      ],
      "execution_count": 0,
      "outputs": []
    },
    {
      "cell_type": "code",
      "metadata": {
        "id": "x9mzWrGLlrSx",
        "colab_type": "code",
        "colab": {}
      },
      "source": [
        "##Importing the required packages...\n",
        "from tensorflow.keras.layers import LSTM, Activation, Dense, Dropout, Input, Embedding, BatchNormalization\n",
        "from tensorflow.keras.models import Model"
      ],
      "execution_count": 0,
      "outputs": []
    },
    {
      "cell_type": "markdown",
      "metadata": {
        "id": "bBijs8HLBQMm",
        "colab_type": "text"
      },
      "source": [
        "## **Network architecture**\n",
        "Embedding layer has to come first and takes the embedding matrix and input_length arguments we specified earlier. I've set this to be not trainable to begin with."
      ]
    },
    {
      "cell_type": "code",
      "metadata": {
        "id": "9atAjtXn6NcB",
        "colab_type": "code",
        "outputId": "53d1e37f-45cd-4d9f-d021-5621da0b2ab8",
        "colab": {
          "base_uri": "https://localhost:8080/",
          "height": 562
        }
      },
      "source": [
        "#Defining the Model...\n",
        "inputs= Input(name='text_input', shape=[max_len])\n",
        "embed= Embedding(vocab_len+1, 200, input_length=max_len, mask_zero=True, weights=[embedding_matrix],trainable=False, name='Embedding_layer')(inputs)\n",
        "lstm_layer= LSTM(512, name='LSTM_Layer')(embed)\n",
        "bn1= BatchNormalization()(lstm_layer)\n",
        "dense1= Dense(128, activation='tanh', name='Dense_Layer1')(bn1)\n",
        "bn2= BatchNormalization()(dense1)\n",
        "drop1= Dropout(0.2, name='Dropout_Layer1')(bn2)\n",
        "dense2= Dense(16, activation='tanh', name='Dense_Layer2')(drop1)\n",
        "bn3= BatchNormalization()(dense2)\n",
        "drop2= Dropout(0.2, name='Dropout_Layer2')(bn3)\n",
        "final_layer= Dense(1, activation= 'sigmoid', name='Final_Layer')(drop2)\n",
        "model= Model(inputs= inputs, outputs= final_layer)\n",
        "\n",
        "model.summary()"
      ],
      "execution_count": 106,
      "outputs": [
        {
          "output_type": "stream",
          "text": [
            "Model: \"model_1\"\n",
            "_________________________________________________________________\n",
            "Layer (type)                 Output Shape              Param #   \n",
            "=================================================================\n",
            "text_input (InputLayer)      [(None, 27)]              0         \n",
            "_________________________________________________________________\n",
            "Embedding_layer (Embedding)  (None, 27, 200)           38356200  \n",
            "_________________________________________________________________\n",
            "LSTM_Layer (LSTM)            (None, 512)               1460224   \n",
            "_________________________________________________________________\n",
            "batch_normalization_3 (Batch (None, 512)               2048      \n",
            "_________________________________________________________________\n",
            "Dense_Layer1 (Dense)         (None, 128)               65664     \n",
            "_________________________________________________________________\n",
            "batch_normalization_4 (Batch (None, 128)               512       \n",
            "_________________________________________________________________\n",
            "Dropout_Layer1 (Dropout)     (None, 128)               0         \n",
            "_________________________________________________________________\n",
            "Dense_Layer2 (Dense)         (None, 16)                2064      \n",
            "_________________________________________________________________\n",
            "batch_normalization_5 (Batch (None, 16)                64        \n",
            "_________________________________________________________________\n",
            "Dropout_Layer2 (Dropout)     (None, 16)                0         \n",
            "_________________________________________________________________\n",
            "Final_Layer (Dense)          (None, 1)                 17        \n",
            "=================================================================\n",
            "Total params: 39,886,793\n",
            "Trainable params: 1,529,281\n",
            "Non-trainable params: 38,357,512\n",
            "_________________________________________________________________\n"
          ],
          "name": "stdout"
        }
      ]
    },
    {
      "cell_type": "markdown",
      "metadata": {
        "id": "oMf41ZhmDUmm",
        "colab_type": "text"
      },
      "source": [
        "# **Training and Evaluation**"
      ]
    },
    {
      "cell_type": "code",
      "metadata": {
        "id": "nQ_g6isJ6NiI",
        "colab_type": "code",
        "colab": {}
      },
      "source": [
        "#Now we will train our model...\n",
        "model.compile(optimizer='adam', loss='binary_crossentropy', metrics=['accuracy'])"
      ],
      "execution_count": 0,
      "outputs": []
    },
    {
      "cell_type": "markdown",
      "metadata": {
        "id": "n3AHuYBnjAQu",
        "colab_type": "text"
      },
      "source": [
        "**Defining Callbacks for saving our model with certain constraints..**"
      ]
    },
    {
      "cell_type": "code",
      "metadata": {
        "id": "4bjWMYgwi73U",
        "colab_type": "code",
        "colab": {
          "base_uri": "https://localhost:8080/",
          "height": 35
        },
        "outputId": "a8407a08-7085-4370-cf78-caf77eb8c0be"
      },
      "source": [
        "from tensorflow.keras.callbacks import ModelCheckpoint\n",
        "import os\n",
        "\n",
        "output_folder= './Quora_SpamHam_output'\n",
        "if not os.path.exists(output_folder):\n",
        "  os.makedirs(output_folder)\n",
        "\n",
        "filepath= output_folder+\"/weights-{epoch:02d}-accuracy-{accuracy:.4f}.h5\"\n",
        "checkpoint= ModelCheckpoint(filepath, verbose=1, monitor='accuracy',\n",
        "                            save_best_only=False,\n",
        "                            save_weights_only=True,\n",
        "                            mode='auto', period=4) #This will save the weights every 5 epochs"
      ],
      "execution_count": 31,
      "outputs": [
        {
          "output_type": "stream",
          "text": [
            "WARNING:tensorflow:`period` argument is deprecated. Please use `save_freq` to specify the frequency in number of samples seen.\n"
          ],
          "name": "stdout"
        }
      ]
    },
    {
      "cell_type": "code",
      "metadata": {
        "id": "aP43x72qgW6U",
        "colab_type": "code",
        "outputId": "120d6837-d7c8-46ae-dd8a-ab197c77786b",
        "colab": {
          "base_uri": "https://localhost:8080/",
          "height": 72
        }
      },
      "source": [
        "#We see that the target variable here has the imbalanced dataset as shown below:\n",
        "spam_train['target'].value_counts()"
      ],
      "execution_count": 32,
      "outputs": [
        {
          "output_type": "execute_result",
          "data": {
            "text/plain": [
              "0    857610\n",
              "1     56675\n",
              "Name: target, dtype: int64"
            ]
          },
          "metadata": {
            "tags": []
          },
          "execution_count": 32
        }
      ]
    },
    {
      "cell_type": "code",
      "metadata": {
        "id": "aRlbXraDeSrR",
        "colab_type": "code",
        "colab": {
          "base_uri": "https://localhost:8080/",
          "height": 35
        },
        "outputId": "2ad1116e-37bb-4bee-ffe9-e3ed5ceace2c"
      },
      "source": [
        "#Defining class weights to balance the dataset...\n",
        "from sklearn.utils import class_weight\n",
        "class_weights= class_weight.compute_class_weight('balanced',np.unique(y_train), y_train)  #This produces an array\n",
        "\n",
        "class_weights= dict(enumerate(class_weights))  #We changed it to dictionary in order to work with keras.\n",
        "class_weights"
      ],
      "execution_count": 33,
      "outputs": [
        {
          "output_type": "execute_result",
          "data": {
            "text/plain": [
              "{0: 0.5330424085540048, 1: 8.066034406704896}"
            ]
          },
          "metadata": {
            "tags": []
          },
          "execution_count": 33
        }
      ]
    },
    {
      "cell_type": "code",
      "metadata": {
        "id": "RGTmFgYqDB32",
        "colab_type": "code",
        "colab": {}
      },
      "source": [
        "model.fit(sequence_matrix_train, y_train.values, validation_data=[sequence_matrix_test, y_test.values],\n",
        "          epochs=20, class_weight={0:1, 1:8}, batch_size=2000, verbose=1, callbacks=[checkpoint])"
      ],
      "execution_count": 0,
      "outputs": []
    },
    {
      "cell_type": "code",
      "metadata": {
        "id": "Dlbtto-a6NUP",
        "colab_type": "code",
        "colab": {}
      },
      "source": [
        "#Now load the saved model for prediction..\n",
        "model.load_weights('/content/Quora_SpamHam_output/weights-38-accuracy-0.8959.h5')"
      ],
      "execution_count": 0,
      "outputs": []
    },
    {
      "cell_type": "code",
      "metadata": {
        "id": "DCHKrEOa0ODv",
        "colab_type": "code",
        "outputId": "d52942ad-56f6-464b-f2ac-9365d6c006b5",
        "colab": {
          "base_uri": "https://localhost:8080/",
          "height": 35
        }
      },
      "source": [
        "#Predicting the model..\n",
        "from sklearn.metrics import roc_auc_score, roc_curve, classification_report,f1_score\n",
        "predict= model.predict(sequence_matrix_test, verbose=1)"
      ],
      "execution_count": 74,
      "outputs": [
        {
          "output_type": "stream",
          "text": [
            "391837/391837 [==============================] - 100s 255us/sample\n"
          ],
          "name": "stdout"
        }
      ]
    },
    {
      "cell_type": "code",
      "metadata": {
        "id": "rg9T9fut5ov5",
        "colab_type": "code",
        "colab": {
          "base_uri": "https://localhost:8080/",
          "height": 639
        },
        "outputId": "43b861b4-6643-4985-b062-0e6a6b4d7d48"
      },
      "source": [
        "#Plotting ROC_AUC_CURVE for finalizing cut-off...\n",
        "false_positive_rate1, true_positive_rate1, threshold1 = roc_curve(y_test, predict)\n",
        "print('roc_auc_score: ', roc_auc_score(y_test, predict))\n",
        "\n",
        "# Plot ROC curves\n",
        "plt.subplots(1, figsize=(10,10))\n",
        "plt.title('Receiver Operating Characteristic')\n",
        "plt.plot(false_positive_rate1, true_positive_rate1)\n",
        "plt.plot([0, 1], ls=\"--\")\n",
        "plt.plot([0, 0], [1, 0] , c=\".7\"), plt.plot([1, 1] , c=\".7\")\n",
        "plt.ylabel('True Positive Rate')\n",
        "plt.xlabel('False Positive Rate')\n",
        "plt.show()"
      ],
      "execution_count": 76,
      "outputs": [
        {
          "output_type": "stream",
          "text": [
            "roc_auc_score:  0.6611943824899766\n"
          ],
          "name": "stdout"
        },
        {
          "output_type": "display_data",
          "data": {
            "image/png": "[encoded data removed]",
            "text/plain": [
              "<Figure size 720x720 with 1 Axes>"
            ]
          },
          "metadata": {
            "tags": []
          }
        }
      ]
    },
    {
      "cell_type": "code",
      "metadata": {
        "id": "NFPH4hOS8LWh",
        "colab_type": "code",
        "outputId": "49c6710c-375e-4425-bb06-0a938ebef699",
        "colab": {
          "base_uri": "https://localhost:8080/",
          "height": 35
        }
      },
      "source": [
        "roc_auc_score(y_test,predict>0.30)"
      ],
      "execution_count": 93,
      "outputs": [
        {
          "output_type": "execute_result",
          "data": {
            "text/plain": [
              "0.629887786977028"
            ]
          },
          "metadata": {
            "tags": []
          },
          "execution_count": 93
        }
      ]
    },
    {
      "cell_type": "code",
      "metadata": {
        "id": "eIRwrwHblxz7",
        "colab_type": "code",
        "outputId": "a20f787d-687e-4150-cdc7-55e45db1e10e",
        "colab": {
          "base_uri": "https://localhost:8080/",
          "height": 35
        }
      },
      "source": [
        "print(f1_score(y_test, predict>0.30))"
      ],
      "execution_count": 94,
      "outputs": [
        {
          "output_type": "stream",
          "text": [
            "0.1901830675818776\n"
          ],
          "name": "stdout"
        }
      ]
    },
    {
      "cell_type": "code",
      "metadata": {
        "id": "Wng0rw9vl9Rs",
        "colab_type": "code",
        "outputId": "f6a81f8b-0173-4cb5-8df0-2319c3580c5f",
        "colab": {
          "base_uri": "https://localhost:8080/",
          "height": 181
        }
      },
      "source": [
        "print(classification_report(y_test, predict>0.30))"
      ],
      "execution_count": 96,
      "outputs": [
        {
          "output_type": "stream",
          "text": [
            "              precision    recall  f1-score   support\n",
            "\n",
            "           0       0.96      0.74      0.84    367702\n",
            "           1       0.12      0.52      0.19     24135\n",
            "\n",
            "    accuracy                           0.73    391837\n",
            "   macro avg       0.54      0.63      0.51    391837\n",
            "weighted avg       0.91      0.73      0.80    391837\n",
            "\n"
          ],
          "name": "stdout"
        }
      ]
    },
    {
      "cell_type": "code",
      "metadata": {
        "id": "3g9SIqQBl9PW",
        "colab_type": "code",
        "outputId": "99e0b592-7551-4037-ead7-939ddc1ac3b4",
        "colab": {
          "base_uri": "https://localhost:8080/",
          "height": 35
        }
      },
      "source": [
        "predict[3]>0.30"
      ],
      "execution_count": 104,
      "outputs": [
        {
          "output_type": "execute_result",
          "data": {
            "text/plain": [
              "array([ True])"
            ]
          },
          "metadata": {
            "tags": []
          },
          "execution_count": 104
        }
      ]
    },
    {
      "cell_type": "code",
      "metadata": {
        "id": "6ZRXNSwYlxx-",
        "colab_type": "code",
        "colab": {}
      },
      "source": [
        "#Saving the model..\n",
        "model.save('./Quora_SpamFiltering_model.h5')"
      ],
      "execution_count": 0,
      "outputs": []
    }
  ]
}